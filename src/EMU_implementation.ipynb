{
 "cells": [
  {
   "cell_type": "markdown",
   "metadata": {},
   "source": [
    "# Meshes, loading and processing"
   ]
  },
  {
   "cell_type": "markdown",
   "metadata": {},
   "source": [
    "Before starting with the implementation of the EMU algorithm for muscle simulation, we must start off by loading our tetrahedralized mesh.\n",
    "Let us do so."
   ]
  },
  {
   "cell_type": "code",
   "execution_count": 1,
   "metadata": {},
   "outputs": [],
   "source": [
    "import os\n",
    "from mesh_tools import *\n",
    "\n",
    "mesh_file = \"simple_tet.obj\"\n",
    "mesh_path = f\"{os.getcwd()}/../data/{mesh_file}\"\n",
    "vertices, faces = load_mesh(mesh_path)"
   ]
  },
  {
   "cell_type": "markdown",
   "metadata": {},
   "source": [
    "Once we have loaded our already tetrahedralized mesh, it is important to create a numpy `ndarray` variable of dimensions `(n, 4, 3)`.\n",
    "\n",
    "The dimensions of this array are as follows:\n",
    "- `n`: Number of tetrahedra in our mesh\n",
    "- `4`: Tetrahedra vertices\n",
    "- `3`: Coordinate of each vertex\n",
    "\n",
    "Let us name this variable `Q`, to refer to the mesh at its rest position."
   ]
  },
  {
   "cell_type": "markdown",
   "metadata": {},
   "source": [
    "# Physics implementation"
   ]
  },
  {
   "attachments": {},
   "cell_type": "markdown",
   "metadata": {},
   "source": [
    "Now that we have loaded our mesh `Q`, let us begin work on the physics implementation of the EMU algorithm. We will start off by defining the functions that are relevant to the algorithm.\n",
    "\n",
    "We will define:\n",
    "- `F`: Deformation gradient\n",
    "- `G`: Inverse of rest position mesh (`Q`)\n",
    "- `q`: Activated mesh\n",
    "\n",
    "The equation we seek to minimize is the following equation, $Eq.1$:\n",
    "\n",
    "$$\n",
    "\\int_{\\Omega}{\\Psi_{iso}(F(q)) + \\Psi_{fiber}(F(q), u, a(t)) - W(q) dQ}\n",
    "$$"
   ]
  },
  {
   "cell_type": "markdown",
   "metadata": {},
   "source": [
    "## Linear activation function\n",
    "\n",
    "We define a linear activation function $a(t), \\forall t>0$.\n",
    "\n",
    "As we will have to derive $\\Psi_{fiber}$ later on, we will also define the derivative of our activation function."
   ]
  },
  {
   "attachments": {},
   "cell_type": "markdown",
   "metadata": {},
   "source": [
    "## $\\Psi_{fiber}$ functions\n",
    "\n",
    "The $\\Psi_{fiber}$ function, and its derivatives will be necessary to determine the behaviour of our muscle mesh.\n",
    "\n",
    "We define the following functions:\n",
    "- `psi_fiber`: Corresponds to $\\Psi_{fiber}$, such that:\n",
    "$$\n",
    "\\Psi_{fiber}(F, u, a(t)) = a(t)u_{i}^{T}F_{i}^{T}F_{i}u_{i}\\\\\n",
    "\\Psi_{fiber}(F, u) = u_{i}^{T}F_{i}^{T}F_{i}u_{i}\n",
    "$$\n",
    "- `d_psi_fiber`: Corresponds to $\\frac{d\\Psi_{fiber}}{dF}$\n",
    "- `psi_fiber_hessian`: Corresponds to $\\frac{d^2\\Psi_{fiber}}{dF^2}$"
   ]
  },
  {
   "cell_type": "markdown",
   "metadata": {},
   "source": [
    "## $\\Psi_{iso}$ functions\n",
    "\n",
    "The $\\Psi_{iso}$ function, and its derivatives will be necessary to determine the material of our bone mesh.\n",
    "\n",
    "We define the following functions:\n",
    "- `psi_iso`: Corresponds to $\\Psi_{iso}$, such that \n",
    "$$\n",
    "\\Psi_{iso}(F) = C(tr(F^{T}F) - 3)\n",
    "$$\n",
    "- `d_psi_iso`: Corresponds to $\\frac{d\\Psi_{iso}}{dF}$\n",
    "- `psi_iso_hessian`: Corresponds to $\\frac{d^2\\Psi_{iso}}{dF^2}$"
   ]
  },
  {
   "cell_type": "markdown",
   "metadata": {},
   "source": [
    "## $E_c$ functions\n",
    "\n",
    "We must now define the minimized energy function $E_c$ which finds the optimal deformed vertex positions for `q`.\n",
    "\n",
    "We define the following function:\n",
    "- `E_c`: Corresponds to $E_c$, such that:\n",
    "$$\n",
    "E_c(F) = (G^{T}G)^{-1}G^{T}F\n",
    "$$\n",
    "- `d_E_c`: Corresponds to $\\frac{dE_c}{dF}$, such that:\n",
    "$$\n",
    "\\frac{dE_{c}(F)}{dF} = -G(G^{T}G)^{-1}G^{T}F+F\n",
    "$$"
   ]
  },
  {
   "cell_type": "markdown",
   "metadata": {},
   "source": [
    "Now we define the discretized energy minimization from $Eq. 1$.\n",
    "\n",
    "We define the following functions:\n",
    "- `E`: Corresponds to $E(F)$, such that: \n",
    "$$\n",
    "E(F) = \\Psi_{iso}(F) + \\Psi_{fiber}(F,u,a(t)) + \\alpha E_c(F) - W(q(F))\n",
    "$$\n",
    "- `d_E`: Corresponds to $\\frac{dE}{dF}$, such that:\n",
    "$$\n",
    "\\frac{dE}{dF} = \\frac{d\\Psi_{iso}}{dF} + \\frac{\\partial \\Psi_{fiber}}{\\partial F} + \\alpha \\frac{d E_c}{d F}\n",
    "$$\n",
    "- `E_hessian`: Corresponds to $\\frac{d^2E}{dF^2}$, such that:\n",
    "$$\n",
    "\\frac{d^2E}{dF^2} = \\frac{d^2\\Psi_{iso}}{dF^2} + \\frac{\\partial ^2 \\Psi_{fiber}}{\\partial F} + \\alpha I - \\alpha (\\Phi G^{T})^T \\Lambda ^ {-1} (\\Phi G^{T})\n",
    "$$\n",
    "- `E_hessian_inv`: Corresponds to $(\\frac{d^2E}{dF^2})^{-1}$"
   ]
  },
  {
   "cell_type": "markdown",
   "metadata": {},
   "source": [
    "## EMU Implementation\n",
    "\n",
    "Once we've defined all of the functions necessary for the algorithm to function, we can now define the EMU algorithm."
   ]
  },
  {
   "cell_type": "code",
   "execution_count": 2,
   "metadata": {},
   "outputs": [],
   "source": [
    "import numpy as np\n",
    "np.random.seed(42)\n",
    "\n",
    "from physics_lib import *"
   ]
  },
  {
   "cell_type": "code",
   "execution_count": 3,
   "metadata": {},
   "outputs": [],
   "source": [
    "n = len(vertices)\n",
    "m = int(n / 4)\n",
    "dim = (n, m)\n",
    "\n",
    "F = np.random.random((9*m, 1))\n",
    "Q = np.ravel(np.array(vertices))[:, None]\n",
    "u = np.array([[0], [0], [-1]])"
   ]
  },
  {
   "cell_type": "code",
   "execution_count": 4,
   "metadata": {},
   "outputs": [],
   "source": [
    "def EMU(F : np.ndarray, Q : np.ndarray, u : np.ndarray, dim : tuple):\n",
    "    t = 0\n",
    "    sigma = 10\n",
    "    c, p, α = 1e-4, 0.5, 10\n",
    "    G = create_G(Q, dim)\n",
    "    g = d_E(F, G, u, t, α)\n",
    "\n",
    "    epsilon_1 = -1e-4\n",
    "    epsilon_2 = -1e-3\n",
    "    \n",
    "    while (np.linalg.norm(g) > epsilon_1 and t < 10):\n",
    "        F_temp = np.copy(F)\n",
    "        e_i = E(F, G, u, t, α)\n",
    "        g = d_E(F, G, u, t, α)\n",
    "        H_inv = E_hessian_inv(F, G, u, t, α, dim)\n",
    "        d = H_inv @ g\n",
    "        \n",
    "        E_ = e_i\n",
    "\n",
    "        iteration_conv = 0\n",
    "\n",
    "        while (E_ < e_i + sigma * c * g.T @ d):\n",
    "            F_temp = F_temp + sigma * d\n",
    "            sigma = p * sigma\n",
    "            E_ = E(F_temp, G, u, t, α)\n",
    "            iteration_conv += 1\n",
    "\n",
    "        print(f\"Iteration: {t} | Converged at: {iteration_conv}\")\n",
    "        \n",
    "        F = F_temp + sigma * d\n",
    "        q = argmin_Ec(F, G)\n",
    "\n",
    "        export_mesh(q, mesh_path, f\"{os.getcwd()}/../data/EMU_mesh_{t}.obj\")\n",
    "\n",
    "        t += 1"
   ]
  },
  {
   "cell_type": "code",
   "execution_count": 5,
   "metadata": {},
   "outputs": [
    {
     "name": "stdout",
     "output_type": "stream",
     "text": [
      "Iteration: 0 | Converged at: 1\n",
      "Iteration: 1 | Converged at: 1\n",
      "Iteration: 2 | Converged at: 1\n",
      "Iteration: 3 | Converged at: 6\n",
      "Iteration: 4 | Converged at: 0\n",
      "Iteration: 5 | Converged at: 0\n",
      "Iteration: 6 | Converged at: 0\n",
      "Iteration: 7 | Converged at: 0\n",
      "Iteration: 8 | Converged at: 0\n",
      "Iteration: 9 | Converged at: 0\n"
     ]
    }
   ],
   "source": [
    "EMU(F, Q, u, dim)"
   ]
  },
  {
   "cell_type": "code",
   "execution_count": null,
   "metadata": {},
   "outputs": [],
   "source": []
  }
 ],
 "metadata": {
  "kernelspec": {
   "display_name": "env",
   "language": "python",
   "name": "python3"
  },
  "language_info": {
   "codemirror_mode": {
    "name": "ipython",
    "version": 3
   },
   "file_extension": ".py",
   "mimetype": "text/x-python",
   "name": "python",
   "nbconvert_exporter": "python",
   "pygments_lexer": "ipython3",
   "version": "3.9.2"
  },
  "orig_nbformat": 4,
  "vscode": {
   "interpreter": {
    "hash": "adca3fef71235a65b1144a5b5b05df67e25403fc1aea6a72e1986ddc6d59f7de"
   }
  }
 },
 "nbformat": 4,
 "nbformat_minor": 2
}
