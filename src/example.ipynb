{
 "cells": [
  {
   "cell_type": "code",
   "execution_count": 25,
   "metadata": {},
   "outputs": [],
   "source": [
    "import os\n",
    "import trimesh\n",
    "\n",
    "import numpy as np\n",
    "\n",
    "from mesh_tools import *"
   ]
  },
  {
   "cell_type": "code",
   "execution_count": 27,
   "metadata": {},
   "outputs": [],
   "source": [
    "# Fixed seed for deterministic results\n",
    "np.random.seed(0)"
   ]
  },
  {
   "cell_type": "markdown",
   "metadata": {},
   "source": [
    "# Meshes, loading and processing"
   ]
  },
  {
   "cell_type": "markdown",
   "metadata": {},
   "source": [
    "Before starting with the implementation of the EMU algorithm for muscle simulation, we must start off by loading our tetrahedralized mesh.\n",
    "Let us do so."
   ]
  },
  {
   "cell_type": "code",
   "execution_count": 11,
   "metadata": {},
   "outputs": [],
   "source": [
    "# TODO: Change to load tetrahedra instead of triangle!\n",
    "\n",
    "def load_obj_mesh(mesh_path):\n",
    "    vertex_data = []\n",
    "    face_data = []\n",
    "    for line in open(mesh_path, \"r\"):\n",
    "        if line.startswith('#'):\n",
    "            continue\n",
    "        values = line.split()\n",
    "        if not values:\n",
    "            continue\n",
    "        if values[0] == 'v':\n",
    "            v = list(map(float, values[1:4]))\n",
    "            vertex_data.append(v)\n",
    "        elif values[0] == 'f':\n",
    "            f = list(map(lambda x: int(x.split('/')[0]),  values[1:4]))\n",
    "            face_data.append(f)\n",
    "    vertices = np.array(vertex_data)\n",
    "    faces = np.array(face_data)\n",
    "    return vertices, faces "
   ]
  },
  {
   "cell_type": "code",
   "execution_count": 12,
   "metadata": {},
   "outputs": [],
   "source": [
    "mesh_path = f\"{os.getcwd()}/../data/arm_tet.obj\"\n",
    "vertices, faces = load_obj_mesh(mesh_path)\n",
    "mesh = trimesh.Trimesh(vertices=vertices, faces=faces, process=False)"
   ]
  },
  {
   "cell_type": "markdown",
   "metadata": {},
   "source": [
    "Once we have loaded our already tetrahedralized mesh, it is important to create a numpy `ndarray` variable of dimensions `(n, 4, 3)`.\n",
    "\n",
    "The dimensions of this array are as follows:\n",
    "- `n`: Number of tetrahedra in our mesh\n",
    "- `4`: Tetrahedra vertices\n",
    "- `3`: Coordinate of each vertex\n",
    "\n",
    "Let us name this variable `Q`, to refer to the mesh at its rest position."
   ]
  },
  {
   "cell_type": "markdown",
   "metadata": {},
   "source": [
    "# Physics implementation"
   ]
  },
  {
   "cell_type": "markdown",
   "metadata": {},
   "source": [
    "Now that we have loaded our mesh `Q`, let us begin work on the physics implementation of the EMU algorithm. We will start off by defining the functions that are relevant to the algorithm.\n",
    "\n",
    "We will define:\n",
    "- `F`: Deformation gradient\n",
    "- `G`: Inverse of rest position mesh (`G`)\n",
    "- `q`: Activated mesh\n",
    "\n",
    "The equation we seek to minimize is the following equation, $Eq.1$:\n",
    "\n",
    "$$\n",
    "\\int_{\\Omega}{\\Psi_{iso}(F(q)) + \\Psi_{fiber}(F(q), u, a(t)) - W(q) dQ}\n",
    "$$"
   ]
  },
  {
   "cell_type": "code",
   "execution_count": 18,
   "metadata": {},
   "outputs": [],
   "source": [
    "# Number of tetrahedra\n",
    "# TODO: Review the shape of the tetrahedra\n",
    "n = 10000\n",
    "n_vertex = 3 # 4 for tetrahedra, 3 for triangle\n",
    "n_coords = 3 # x, y, z\n",
    "\n",
    "tet_shape = (n, n_vertex, n_coords)\n",
    "dir_shape = (n, n_coords, n_vertex)\n",
    "\n",
    "F = np.random.random(tet_shape)\n",
    "Q = np.random.random(tet_shape)\n",
    "G = np.linalg.inv(Q)\n",
    "\n",
    "u = np.random.random(dir_shape)"
   ]
  },
  {
   "cell_type": "markdown",
   "metadata": {},
   "source": [
    "## Linear activation function\n",
    "\n",
    "We define a linear activation function $a(t), \\forall t>0$.\n",
    "\n",
    "As we will have to derive $\\Psi_{fiber}$ later on, we will also define the derivative of our activation function."
   ]
  },
  {
   "cell_type": "code",
   "execution_count": 19,
   "metadata": {},
   "outputs": [],
   "source": [
    "def a(t : int) -> float:\n",
    "    return (1/10) * t # 1/10 for \"slow\" activation"
   ]
  },
  {
   "cell_type": "code",
   "execution_count": 20,
   "metadata": {},
   "outputs": [],
   "source": [
    "def d_a() -> float:\n",
    "    return (1/10)"
   ]
  },
  {
   "cell_type": "markdown",
   "metadata": {},
   "source": [
    "## $\\Psi_{fiber}$ functions\n",
    "\n",
    "The $\\Psi_{fiber}$ function, and its derivatives will be necessary to determine the behaviour of our muscle mesh.\n",
    "\n",
    "We define the following functions:\n",
    "- `psi_fiber`: Corresponds to $\\Psi_{fiber}$, such that:\n",
    "$$\n",
    "\\Psi_{fiber}(F, u, a(t)) = a(t)u_{i}^{T}F_{i}^{T}F_{i}u_{i}\n",
    "$$\n",
    "- `d_psi_fiber`: Corresponds to $\\frac{d\\Psi_{fiber}}{dF}$\n",
    "- `psi_fiber_hessian`: Corresponds to $\\frac{d^2\\Psi_{fiber}}{dF^2}$"
   ]
  },
  {
   "cell_type": "code",
   "execution_count": 21,
   "metadata": {},
   "outputs": [],
   "source": [
    "# Equation (8)\n",
    "def psi_fiber(F : np.ndarray, i : int, t : int) -> np.ndarray:\n",
    "    # TODO: Still incomplete! Define u unit-length directional vector\n",
    "    return a(t) * F[i].T @ F[i]\n",
    "\n",
    "def d_psi_fiber(F : np.ndarray, i : int, t : int) -> np.ndarray:\n",
    "    # TODO: IMPLEMENT\n",
    "    pass\n",
    "\n",
    "def psi_fiber_hessian(F : np.ndarray, i : int, t : int) -> np.ndarray:\n",
    "    # TODO: IMPLEMENT\n",
    "    pass"
   ]
  },
  {
   "cell_type": "markdown",
   "metadata": {},
   "source": [
    "## $\\Psi_{iso}$ functions\n",
    "\n",
    "The $\\Psi_{iso}$ function, and its derivatives will be necessary to determine the material of our bone mesh.\n",
    "\n",
    "We define the following functions:\n",
    "- `psi_iso`: Corresponds to $\\Psi_{iso}$, such that \n",
    "$$\n",
    "\\Psi_{iso}(F) = C(tr(F^{T}F) - 3)\n",
    "$$\n",
    "- `d_psi_iso`: Corresponds to $\\frac{d\\Psi_{iso}}{dF}$\n",
    "- `psi_iso_hessian`: Corresponds to $\\frac{d^2\\Psi_{iso}}{dF^2}$"
   ]
  },
  {
   "cell_type": "code",
   "execution_count": 22,
   "metadata": {},
   "outputs": [],
   "source": [
    "def psi_iso(F : np.ndarray, i : int) -> np.ndarray:\n",
    "    C = np.pi # Material constant\n",
    "    I = np.trace(F[i].T @ F[i])\n",
    "    return C * (I - 3)\n",
    "\n",
    "def d_psi_iso(F : np.ndarray, i : int) -> np.ndarray:\n",
    "    # TODO: IMPLEMENT\n",
    "    pass\n",
    "\n",
    "def psi_iso_hessian(F : np.ndarray, i : int) -> np.ndarray:\n",
    "    # TODO: IMPLEMENT\n",
    "    pass"
   ]
  },
  {
   "cell_type": "markdown",
   "metadata": {},
   "source": [
    "## $E_c$ functions\n",
    "\n",
    "We must now define the minimized energy function $E_c$ which finds the optimal deformed vertex positions for `q`.\n",
    "\n",
    "We define the following function:\n",
    "- `E_c`: Corresponds to $E_c$, such that:\n",
    "$$\n",
    "E_c(F) = (G^{T}G)^{-1}G^{T}F\n",
    "$$\n",
    "- `d_E_c`: Corresponds to $\\frac{dE_c}{dF}$, such that:\n",
    "$$\n",
    "\\frac{dE_{c}(F)}{dF} = -G(G^{T}G)^{-1}G^{T}F+F\n",
    "$$"
   ]
  },
  {
   "cell_type": "code",
   "execution_count": 23,
   "metadata": {},
   "outputs": [],
   "source": [
    "# Equation (4)\n",
    "def E_c(F : np.ndarray, G : np.ndarray, i : int) -> np.ndarray:\n",
    "    return np.linalg.inv(G[i].T @ G[i]) @ G[i].T @ F[i]\n",
    "\n",
    "# Equation (10)\n",
    "def d_E_c(F : np.ndarray, G : np.ndarray, i : int) -> np.ndarray:\n",
    "    return -G[i] @ np.linalg.inv(G[i].T @ G[i]) @ G[i].T @ F[i] + F[i]"
   ]
  },
  {
   "cell_type": "markdown",
   "metadata": {},
   "source": [
    "Now we define the discretized energy minimization from $Eq. 1$.\n",
    "\n",
    "We define the following functions:\n",
    "- `E`: Corresponds to $E(F)$, such that: \n",
    "$$\n",
    "E(F) = \\Psi_{iso}(F) + \\Psi_{fiber}(F,u,a(t)) + \\alpha E_c(F) - W(q(F))\n",
    "$$\n",
    "- `d_E`: Corresponds to $\\frac{dE}{dF}$, such that:\n",
    "$$\n",
    "\\frac{dE}{dF} = \\frac{d\\Psi_{iso}}{dF} + \\frac{\\partial \\Psi_{fiber}}{\\partial F} + \\alpha \\frac{d E_c}{d F}\n",
    "$$\n",
    "- `E_hessian`: Corresponds to $\\frac{d^2E}{dF^2}$, such that:\n",
    "$$\n",
    "\\frac{d^2E}{dF^2} = \\frac{d^2\\Psi_{iso}}{dF^2} + \\frac{\\partial ^2 \\Psi_{fiber}}{\\partial F} + \\alpha I - \\alpha (\\Phi G^{T})^T \\Lambda ^ {-1} (\\Phi G^{T})\n",
    "$$\n",
    "- `E_hessian_inv`: Corresponds to $(\\frac{d^2E}{dF^2})^{-1}$"
   ]
  },
  {
   "cell_type": "code",
   "execution_count": 24,
   "metadata": {},
   "outputs": [],
   "source": [
    "# Equation (5)\n",
    "def E(F : np.ndarray, G : np.ndarray, i : int, t : int, α : int) -> np.ndarray:\n",
    "    return psi_iso(F, i) + psi_fiber(F, i, t) + α * E_c(F, G, i)\n",
    "\n",
    "# Equation (9)\n",
    "def d_E(F : np.ndarray, G : np.ndarray, i : int, t : int, α : int) -> np.ndarray:\n",
    "    return d_psi_iso(F, i) + d_psi_fiber(F, i, t) + α * d_E_c(F, G, i)\n",
    "\n",
    "# Equation (11, 12, 13, 14, 15)\n",
    "def E_hessian(F : np.ndarray, G : np.ndarray, i : int, t : int, α : int) -> np.ndarray:\n",
    "    #(G.T @ G)^-1 = Φ.T Λ^-1 Φ\n",
    "    Λ, Φ  = np.linalg.eig(G)\n",
    "    \n",
    "    I = np.identity(tet_shape)\n",
    "    H = psi_iso_hessian(F, i) + psi_fiber_hessian(F, i, t) + α * I\n",
    "\n",
    "    B = Φ @ G[i].T\n",
    "\n",
    "    # Hessian matrix of E\n",
    "    hessian = H - α * B.T @ np.linalg.inv(Λ) @ B\n",
    "\n",
    "    return hessian\n",
    "\n",
    "# Equation (17)\n",
    "def E_hessian_inv(F : np.ndarray, G : np.ndarray, i : int, t : int, α : int) -> np.ndarray:\n",
    "    #(G.T @ G)^-1 = Φ.T Λ^-1 Φ\n",
    "    Λ, Φ  = np.linalg.eig(G)\n",
    "    \n",
    "    I = np.identity(tet_shape)\n",
    "    H = psi_iso_hessian(F, i) + psi_fiber_hessian(F, i, t) + α * I\n",
    "    H_inv = np.linalg.inv(H)\n",
    "\n",
    "    B = Φ @ G[i].T\n",
    "\n",
    "    # Inverse of hessian expression\n",
    "    hessian_inv = H_inv + α * H_inv @ B.T @ np.linalg.inv(Λ - α*B @ H_inv @ B.T) @ B @ H_inv\n",
    "\n",
    "    return hessian_inv"
   ]
  },
  {
   "cell_type": "markdown",
   "metadata": {},
   "source": [
    "## EMU Implementation\n",
    "\n",
    "Once we've defined all of the functions necessary for the algorithm to function, we can now define the EMU algorithm."
   ]
  },
  {
   "cell_type": "code",
   "execution_count": null,
   "metadata": {},
   "outputs": [],
   "source": [
    "# EMU Algorithm implementation\n",
    "\n",
    "# TODO: How to separate bone mesh and muscle mesh?\n",
    "#       How will the algo be able to tell the difference between\n",
    "#       the two when just looking at the tetrahedra's vertices' coordinates?\n",
    "#       Refer to section 3.6 (Modeling). \n",
    "#       c.f: Young's Modulus, labeling (muscle, tendon, bone), Poisson's Ratio\n",
    "\n",
    "def EMU(F : np.ndarray, G : np.ndarray):\n",
    "    # Line search step size\n",
    "    sigma = 10\n",
    "\n",
    "    # Line search f tolerance\n",
    "    c = 1e-4\n",
    "\n",
    "    # Line search decrement\n",
    "    p = 0.5\n",
    "    \n",
    "    # Hyperparameter\n",
    "    α = 10\n",
    "\n",
    "    # Number of tetrahedra\n",
    "    n = G.shape[0]\n",
    "\n",
    "    # Array to store our new mesh in\n",
    "    q = np.copy(G)\n",
    "    \n",
    "    # TODO: Change this condition.\n",
    "    for t in range (100):\n",
    "        F_temp = np.copy(F.shape)\n",
    "        \n",
    "        # Iterate on each tetrahedra\n",
    "        for i in range(n):\n",
    "            e_i = E(F, G, i, t, α)\n",
    "            g = d_E(F, G, i, t, α)\n",
    "            H_inv = E_hessian_inv(F, G, i, t, α)\n",
    "            d = H_inv @ g\n",
    "\n",
    "            while (E(F_temp, G, i, t, α) < e_i + sigma * c * g.T @ d):\n",
    "                F_temp[i] = F_temp[i] + sigma * d\n",
    "                sigma = p * sigma\n",
    "            \n",
    "            F[i] = F_temp + sigma * d\n",
    "            q[i] = E(F, G, i, t, α)\n",
    "\n",
    "            # Should we inverse by mesh instead of entire matrix?\n",
    "            Q[i] = q[i]\n",
    "            G[i] = np.linalg.inv(Q[i])\n",
    "        \n",
    "        # Out of loop, Save image of new mesh q\n",
    "        \n",
    "        # New mesh is now old mesh\n",
    "        Q = np.copy(q)\n",
    "        G = np.linalg.inv(Q)"
   ]
  }
 ],
 "metadata": {
  "kernelspec": {
   "display_name": "Python 3.9.2 ('env': venv)",
   "language": "python",
   "name": "python3"
  },
  "language_info": {
   "codemirror_mode": {
    "name": "ipython",
    "version": 3
   },
   "file_extension": ".py",
   "mimetype": "text/x-python",
   "name": "python",
   "nbconvert_exporter": "python",
   "pygments_lexer": "ipython3",
   "version": "3.9.2"
  },
  "orig_nbformat": 4,
  "vscode": {
   "interpreter": {
    "hash": "e925040d1cdf736590cd89388d3422f72d35529ded7c2faee545dd4fe87ebac2"
   }
  }
 },
 "nbformat": 4,
 "nbformat_minor": 2
}
