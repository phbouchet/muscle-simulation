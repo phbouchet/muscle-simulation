{
 "cells": [
  {
   "cell_type": "code",
   "execution_count": 22,
   "metadata": {},
   "outputs": [],
   "source": [
    "import os\n",
    "import trimesh\n",
    "\n",
    "import numpy as np\n",
    "import scipy as sci"
   ]
  },
  {
   "cell_type": "markdown",
   "metadata": {},
   "source": [
    "# Meshes, loading and processing"
   ]
  },
  {
   "cell_type": "code",
   "execution_count": 23,
   "metadata": {},
   "outputs": [],
   "source": [
    "def load_obj_mesh(mesh_path):\n",
    "    vertex_data = []\n",
    "    face_data = []\n",
    "    for line in open(mesh_path, \"r\"):\n",
    "        if line.startswith('#'):\n",
    "            continue\n",
    "        values = line.split()\n",
    "        if not values:\n",
    "            continue\n",
    "        if values[0] == 'v':\n",
    "            v = list(map(float, values[1:4]))\n",
    "            vertex_data.append(v)\n",
    "        elif values[0] == 'f':\n",
    "            f = list(map(lambda x: int(x.split('/')[0]),  values[1:4]))\n",
    "            face_data.append(f)\n",
    "    vertices = np.array(vertex_data)\n",
    "    faces = np.array(face_data)\n",
    "    return vertices, faces "
   ]
  },
  {
   "cell_type": "code",
   "execution_count": 62,
   "metadata": {},
   "outputs": [],
   "source": [
    "mesh_path = f\"{os.getcwd()}/../data/arm_tet.obj\""
   ]
  },
  {
   "cell_type": "code",
   "execution_count": 63,
   "metadata": {},
   "outputs": [],
   "source": [
    "vertices, faces = load_obj_mesh(mesh_path)"
   ]
  },
  {
   "cell_type": "code",
   "execution_count": 64,
   "metadata": {},
   "outputs": [],
   "source": [
    "mesh = trimesh.Trimesh(vertices=vertices, faces=faces, process=False)"
   ]
  },
  {
   "cell_type": "code",
   "execution_count": 65,
   "metadata": {},
   "outputs": [],
   "source": [
    "def get_triangle(vertices : np.ndarray, faces : np.ndarray) -> np.ndarray:\n",
    "    pass"
   ]
  },
  {
   "cell_type": "markdown",
   "metadata": {},
   "source": [
    "# Physics implementation"
   ]
  },
  {
   "cell_type": "code",
   "execution_count": 66,
   "metadata": {},
   "outputs": [],
   "source": [
    "def psi_isometric(F : np.ndarray):\n",
    "    # https://graphics.pixar.com/library/StableElasticity/paper.pdf\n",
    "    lambda_constant = 18.098\n",
    "    mu_constant = 34.24\n",
    "\n",
    "    n = F.shape[0]\n",
    "    R, S = sci.linalg.polar(F)\n",
    "    I = np.identity(n)\n",
    "\n",
    "    trace = np.trace(S - I) ** 2\n",
    "\n",
    "    return mu_constant * (F - R) ** 2 + (lambda_constant/2) * trace\n",
    "\n",
    "def psi_fiber(F : np.ndarray, u, a):\n",
    "    # TODO: Implement\n",
    "    pass"
   ]
  },
  {
   "cell_type": "code",
   "execution_count": null,
   "metadata": {},
   "outputs": [],
   "source": []
  }
 ],
 "metadata": {
  "kernelspec": {
   "display_name": "Python 3.9.2 ('env': venv)",
   "language": "python",
   "name": "python3"
  },
  "language_info": {
   "codemirror_mode": {
    "name": "ipython",
    "version": 3
   },
   "file_extension": ".py",
   "mimetype": "text/x-python",
   "name": "python",
   "nbconvert_exporter": "python",
   "pygments_lexer": "ipython3",
   "version": "3.9.2"
  },
  "orig_nbformat": 4,
  "vscode": {
   "interpreter": {
    "hash": "e925040d1cdf736590cd89388d3422f72d35529ded7c2faee545dd4fe87ebac2"
   }
  }
 },
 "nbformat": 4,
 "nbformat_minor": 2
}
